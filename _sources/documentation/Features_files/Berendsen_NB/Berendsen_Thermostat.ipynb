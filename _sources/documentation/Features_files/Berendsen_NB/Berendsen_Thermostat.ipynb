{
 "cells": [
  {
   "cell_type": "markdown",
   "id": "coastal-blues",
   "metadata": {},
   "source": [
    "# Thermostats \n",
    "\n",
    "## Berendsen Thermostat\n",
    "\n",
    "The Berendsen Thermostat (BT) uses a tapered velocity scaling approach. In a strict velocity scaling approach\n",
    "the temperature $T_e$ is estimated, through a quantity proportional to $\\langle v^2 \\rangle$,\n",
    "and the velocities are scaled to values consistent with the desired temperature $T_d$,\n",
    "as in $v_i \\mapsto \\alpha v_i$. Being completely consistent with physical laws,\n",
    "it is preferable to use the same simple algorithm but more gently so that the dynamics during the thermostat period is more consistent with the underlying equations of motion.\n",
    "In the BT we begin with an model for the temperature as we would like to see it evolve over a slower\n",
    "timescale $\\tau_{B}$. One model is\n",
    "\n",
    "$$\n",
    "   \\frac{dT}{dt} = \\frac{T_d - T}{\\tau_{B}},\n",
    "$$\n",
    "\n",
    "This equation can be solved analytically to yield\n",
    "\n",
    "$$\n",
    "   T(t) = T(0)e^{-t/\\tau_B} + \\left(1 - e^{-t/\\tau_B}  \\right)T_d ,\n",
    "$$\n",
    "\n",
    "which can be seen to transition from the initial temperature $T(0)$ to the desired temperature $T_d$\n",
    "on a time scale of $\\tau_{B}$. By choosing $\\tau_{B}$ to be many timesteps we can eventually equilibrate\n",
    "the system while allowing it to explore configurations closer to the real (not velocity scaled) dynamics.\n",
    "\n",
    "To implement BT we discretize the BT model across one time step to obtain\n",
    "\n",
    "$$\n",
    "   T(t + \\Delta t) = T(t) + \\frac{\\Delta t}{\\tau_B}\\left(T_d - T(t) \\right).\n",
    "$$\n",
    "\n",
    "We want to scale the current velocities such that this new temperature $T(t+\\Delta t)$ is achieved,\n",
    "because that the temperature prescribed by the BT.\n",
    "Finding the ratio then of the target temperature and the current temperature, we get\n",
    "\n",
    "$$\n",
    "   \\frac{T(t + \\Delta t)}{T(t) } = 1+ \\frac{\\Delta t}{\\tau_{B}}\\left(\\frac{T_d}{T(t) } - 1 \\right).\n",
    "$$\n",
    "\n",
    "Taking the square root of this yields the scaling factor for the velocities:\n",
    "\n",
    "$$\n",
    "\\alpha = \\sqrt{ 1+ \\frac{\\Delta t}{\\tau_{B}}\\left(\\frac{T_d}{T(t) } - 1 \\right) }.\n",
    "$$\n",
    "\n",
    "Below we show an example notebook that runs Sarkas for different $\\tau_B$ values."
   ]
  },
  {
   "cell_type": "code",
   "execution_count": 1,
   "id": "electoral-tunisia",
   "metadata": {},
   "outputs": [
    {
     "name": "stdout",
     "output_type": "stream",
     "text": [
      "Using matplotlib backend: Qt5Agg\n",
      "Populating the interactive namespace from numpy and matplotlib\n"
     ]
    }
   ],
   "source": [
    "# Import the usual libraries\n",
    "%pylab\n",
    "%matplotlib inline\n",
    "import os\n",
    "plt.style.use('MSUstyle')\n",
    "# Import sarkas\n",
    "from sarkas.processes import Simulation, PostProcess, PreProcess\n",
    "\n",
    "# Create the file path to the YAML input file\n",
    "input_file_name = os.path.join('input_files', 'yocp_cgs_pp_therm.yaml' )\n",
    "\n"
   ]
  },
  {
   "cell_type": "code",
   "execution_count": 2,
   "id": "generic-generic",
   "metadata": {
    "scrolled": false
   },
   "outputs": [
    {
     "name": "stdout",
     "output_type": "stream",
     "text": [
      "\u001B[38;2;0;129;131m\n",
      "\n",
      "\n",
      "\n",
      "\n",
      "\n",
      "________             ______                \n",
      "__  ___/_____ __________  /_______ ________\n",
      "_____ \\_  __ `/_  ___/_  //_/  __ `/_  ___/\n",
      "____/ // /_/ /_  /   _  ,<  / /_/ /_(__  ) \n",
      "/____/ \\__,_/ /_/    /_/|_| \\__,_/ /____/  \n",
      "                                           \n",
      "\n",
      "\u001B[0m\n",
      "An open-source pure-python molecular dynamics suite for non-ideal plasmas.\n",
      "\n",
      "\n",
      "\n",
      "* * * * * * * * * * * * * * * * * * * * * * * * * * * * * * * * * * * * * * * * * * * * * * * * * *\n",
      "                                 Preprocessing                                  \n",
      "* * * * * * * * * * * * * * * * * * * * * * * * * * * * * * * * * * * * * * * * * * * * * * * * * *\n",
      "\n",
      "Job ID:  tau_2\n",
      "Job directory:  Berendsen_runs/tau_2\n",
      "\n",
      "Equilibration dumps directory: \n",
      " Berendsen_runs/tau_2/PreProcessing/Equilibration/dumps\n",
      "Production dumps directory: \n",
      " Berendsen_runs/tau_2/PreProcessing/Production/dumps\n",
      "\n",
      "Equilibration Thermodynamics file: \n",
      " Berendsen_runs/tau_2/PreProcessing/Equilibration/EquilibrationEnergy_tau_2.csv\n",
      "Production Thermodynamics file: \n",
      " Berendsen_runs/tau_2/PreProcessing/Production/ProductionEnergy_tau_2.csv\n",
      "\n",
      "PARTICLES:\n",
      "Total No. of particles =  1000\n",
      "No. of species =  1\n",
      "Species ID: 0\n",
      "\tName: C\n",
      "\tNo. of particles = 1000 \n",
      "\tNumber density = 1.136669e+23 [N/cc]\n",
      "\tAtomic weight = 12.0105 [a.u.]\n",
      "\tMass = 2.008900e-23 [g]\n",
      "\tMass density = 2.283455e+00 [g/cc]\n",
      "\tCharge number/ionization degree = 1.9766 \n",
      "\tCharge = 9.494010e-10 [esu]\n",
      "\tTemperature = 5.000000e+03 [K] = 4.308667e-01 [eV]\n",
      "\tDebye Length = 7.322426e-10 [Hz]\n",
      "\tPlasma Frequency = 2.531585e+14 [Hz]\n",
      "\n",
      "SIMULATION BOX:\n",
      "Units:  cgs\n",
      "Wigner-Seitz radius = 1.280636e-08 [cm]\n",
      "No. of non-zero box dimensions =  3\n",
      "Box side along x axis = 1.611992e+01 a_ws = 2.064375e-07 [cm]\n",
      "Box side along y axis = 1.611992e+01 a_ws = 2.064375e-07 [cm]\n",
      "Box side along z axis = 1.611992e+01 a_ws = 2.064375e-07 [cm]\n",
      "Box Volume = 8.797633e-21 [cm^3]\n",
      "Boundary conditions: periodic\n",
      "\n",
      "ELECTRON PROPERTIES:\n",
      "Number density: n_e = 2.246739e+23 [N/cc]\n",
      "Wigner-Seitz radius: a_e = 1.020437e-08 [cm]\n",
      "Temperature: T_e = 5.000000e+03 [K] = 4.308667e-01 [eV]\n",
      "de Broglie wavelength: lambda_deB = 1.054132e-07 [cm]\n",
      "Thomas-Fermi length: lambda_TF = 4.702909e-09 [cm]\n",
      "Fermi wave number: k_F = 1.880722e+08 [1/cm]\n",
      "Fermi Energy: E_F = 1.347634e+01 [eV]\n",
      "Relativistic parameter: x_F = 7.262582e-03 --> E_F = 1.347617e+01 [eV]\n",
      "Degeneracy parameter: Theta = 3.197207e-02 \n",
      "Coupling: r_s = 1.928347,  Gamma_e = 32.750858\n",
      "Warm Dense Matter Parameter: W = 3.8973e-03\n",
      "Chemical potential: mu = 3.1251e+01 k_B T_e = 9.9916e-01 E_F\n",
      "\n",
      "POTENTIAL:  Yukawa\n",
      "electron temperature = 5.0000e+03 [K] = 4.3087e-01 [eV]\n",
      "kappa = 2.7231\n",
      "Gamma_eff = 101.96\n",
      "\n",
      "ALGORITHM:  PP\n",
      "rcut = 4.6852 a_ws = 6.000000e-08 [cm]\n",
      "No. of PP cells per dimension =  3,  3,  3\n",
      "No. of particles in PP loop =    662\n",
      "No. of PP neighbors per particle =    102\n",
      "Tot Force Error = 5.818612e-06\n",
      "\n",
      "THERMOSTAT: \n",
      "Type: Berendsen\n",
      "First thermostating timestep, i.e. relaxation_timestep = 100\n",
      "Berendsen parameter tau: 2.000 [timesteps]\n",
      "Berendsen relaxation rate: 0.500 [1/timesteps] \n",
      "\n",
      "!!!!!!!!!!!!!!!!!!!!!!!!!!!!!!!!!! WARNING !!!!!!!!!!!!!!!!!!!!!!!!!!!!!!!!!!\n",
      "Equilibration temperatures not defined. I will use the species's temperatures\n",
      "!!!!!!!!!!!!!!!!!!!!!!!!!!!!!!!!!!!!!!!!!!!!!!!!!!!!!!!!!!!!!!!!!!!!!!!!!!!!!\n",
      "\n",
      "Thermostating temperatures: \n",
      "Species ID 0: T_eq = 5.000000e+03 [K] = 4.308667e-01 [eV]\n",
      "\n",
      "INTEGRATOR: \n",
      "Type: Verlet\n",
      "Time step = 5.000000e-17 [s]\n",
      "Total plasma frequency = 2.531585e+14 [Hz]\n",
      "w_p dt = 0.0127 ~ 1/79\n",
      "\n",
      "Equilibration: \n",
      "No. of equilibration steps = 5000 \n",
      "Total equilibration time = 2.5000e-13 [s] ~ 63 w_p T_eq \n",
      "snapshot interval step = 2 \n",
      "snapshot interval time = 1.0000e-16 [s] = 0.0253 w_p T_snap\n",
      "Total number of snapshots = 2500 \n",
      "\n",
      "Production: \n",
      "No. of production steps = 0 \n",
      "Total production time = 0.0000e+00 [s] ~ 0 w_p T_prod \n",
      "snapshot interval step = 10 \n",
      "snapshot interval time = 5.0000e-16 [s] = 0.1266 w_p T_snap\n",
      "Total number of snapshots = 0 \n",
      "\n",
      "\n",
      "------------------------ Initialization Times ------------------------ \n",
      "\n",
      "\n",
      "Potential Initialization Time: 0 sec 31 msec 105 usec 493 nsec\n",
      "\n",
      "Particles Initialization Time: 0 sec 0 msec 379 usec 361 nsec\n",
      "\n",
      "Total Simulation Initialization Time: 0 sec 31 msec 105 usec 493 nsec\n",
      "\n",
      "\n",
      "========================== Times Estimates =========================== \n",
      "\n",
      "Time of PP acceleration calculation averaged over 9 steps: \n",
      "0 min 0 sec 8 msec 482 usec 538 nsec \n",
      "\n",
      "\n",
      "Running 10 equilibration and production steps to estimate simulation times\n",
      "\n"
     ]
    },
    {
     "data": {
      "text/plain": "  0%|          | 0/10 [00:00<?, ?it/s]",
      "application/vnd.jupyter.widget-view+json": {
       "version_major": 2,
       "version_minor": 0,
       "model_id": "142f1b64ee1b47019a2e8485ebf03e2d"
      }
     },
     "metadata": {},
     "output_type": "display_data"
    },
    {
     "name": "stdout",
     "output_type": "stream",
     "text": [
      "Time of a single equilibration step averaged over 9 steps: \n",
      "0 min 0 sec 68 msec 870 usec 493 nsec \n",
      "\n"
     ]
    },
    {
     "data": {
      "text/plain": "  0%|          | 0/10 [00:00<?, ?it/s]",
      "application/vnd.jupyter.widget-view+json": {
       "version_major": 2,
       "version_minor": 0,
       "model_id": "843672cb5e49418c8cbcbf65c7093a78"
      }
     },
     "metadata": {},
     "output_type": "display_data"
    },
    {
     "name": "stdout",
     "output_type": "stream",
     "text": [
      "Time of a single production step averaged over 9 steps: \n",
      "0 min 0 sec 9 msec 552 usec 583 nsec \n",
      "\n",
      "\n",
      "\n",
      "----------------------- Total Estimated Times ------------------------ \n",
      "\n",
      "\n",
      "Equilibration Time: 0 hrs 5 min 44 sec\n",
      "\n",
      "Production Time: 0 sec 0 msec 0 usec 0 nsec\n",
      "\n",
      "Total Run Time: 0 hrs 5 min 44 sec\n",
      "\n",
      "\n",
      "========================= Filesize Estimates ========================= \n",
      "\n",
      "\n",
      "Equilibration:\n",
      "\n",
      "Checkpoint filesize: 0 GB 0 MB 83 KB 470 bytes\n",
      "Checkpoint folder size: 0 GB 203 MB 775 KB 472 bytes\n",
      "\n",
      "Production:\n",
      "\n",
      "Checkpoint filesize: 0 GB 0 MB 83 KB 470 bytes\n",
      "Checkpoint folder size: 0 GB 0 MB 0 KB 0 bytes\n",
      "\n",
      "Total minimum needed space: 0 GB 203 MB 775 KB 472 bytes\n"
     ]
    }
   ],
   "source": [
    "preproc = PreProcess(input_file_name)\n",
    "preproc.setup(read_yaml =True)\n",
    "preproc.run()"
   ]
  },
  {
   "cell_type": "markdown",
   "id": "appropriate-cattle",
   "metadata": {},
   "source": [
    "We select six different values of $\\tau_B$ and for each of them run a simulation."
   ]
  },
  {
   "cell_type": "code",
   "execution_count": 3,
   "id": "identified-dispatch",
   "metadata": {
    "scrolled": false
   },
   "outputs": [
    {
     "name": "stdout",
     "output_type": "stream",
     "text": [
      "Tau = 1.0 Done\n",
      "Tau = 2.0 Done\n",
      "Tau = 5.0 Done\n",
      "Tau = 10.0 Done\n",
      "Tau = 50.0 Done\n",
      "Tau = 100.0 Done\n"
     ]
    }
   ],
   "source": [
    "taus = np.array([ 1.0, 2.0, 5.0, 10., 50., 100. ])\n",
    "\n",
    "for i, tau in enumerate(taus):\n",
    "    args = {\n",
    "        'Thermostat': {'relaxation_timestep': 100, \n",
    "                       'berendsen_tau': tau}, # Change tau for each simulation\n",
    "            \n",
    "            \"IO\":   # Store all simulations' data in simulations_dir,\n",
    "                # but save the dumps in different subfolders (job_dir)\n",
    "            {\n",
    "                \"simulations_dir\": 'Berendsen_runs',\n",
    "                \"job_dir\": \"tau_{}\".format(int(tau) ),\n",
    "                \"verbose\": False # This is so not to print to screen for every run\n",
    "            },\n",
    "    }\n",
    "    # Run the simulation.\n",
    "    sim = Simulation(input_file_name)\n",
    "    sim.setup(read_yaml=True, other_inputs=args)\n",
    "    sim.run()\n",
    "    \n",
    "    print('Tau = {} Done'.format(tau))"
   ]
  },
  {
   "cell_type": "markdown",
   "id": "floral-poverty",
   "metadata": {},
   "source": [
    "Now we plot the temperature evolution to show the effect of changing $\\tau_B$."
   ]
  },
  {
   "cell_type": "code",
   "execution_count": 4,
   "id": "resident-probability",
   "metadata": {},
   "outputs": [
    {
     "data": {
      "text/plain": [
       "<matplotlib.legend.Legend at 0x7fd6d41af450>"
      ]
     },
     "execution_count": 4,
     "metadata": {},
     "output_type": "execute_result"
    },
    {
     "data": {
      "image/png": "[encoded data removed]",
      "text/plain": [
       "<Figure size 864x648 with 1 Axes>"
      ]
     },
     "metadata": {},
     "output_type": "display_data"
    }
   ],
   "source": [
    "fig, axt = plt.subplots(1,1, figsize = (12,9))\n",
    "\n",
    "for i, tau in enumerate(taus):\n",
    "    args = {\n",
    "        'Thermostat': {'relaxation_timestep': 100, \n",
    "                       'berendsen_tau': tau}, # Change tau for each simulation\n",
    "            \n",
    "            \"IO\":   # Store all simulations' data in simulations_dir,\n",
    "                # but save the dumps in different subfolders (job_dir)\n",
    "            {\n",
    "                \"simulations_dir\": 'Berendsen_runs',\n",
    "                \"job_dir\": \"tau_{}\".format(int(tau) ),\n",
    "                \"verbose\": False # This is so not to print to screen for every run\n",
    "            },\n",
    "    }\n",
    "\n",
    "    postproc = PostProcess(input_file_name)\n",
    "    postproc.setup(read_yaml=True, other_inputs = args)\n",
    "    postproc.therm.setup(postproc.parameters, phase = 'equilibration')\n",
    "    postproc.therm.parse()\n",
    "    \n",
    "    postproc.therm.plot(\n",
    "        scaling = (postproc.therm.dt, postproc.parameters.eV2K),   \n",
    "        y = 'Temperature', \n",
    "        ylabel = 'Temperature [eV]',\n",
    "        xlabel = 'Number of timesteps', logx = True, ax = axt)\n",
    "\n",
    "axt.axhline(postproc.thermostat.temperatures_eV[0], ls = '--', color = 'r')\n",
    "axt.legend([\n",
    "    r'$\\tau_B = 1.0$', \n",
    "    r'$\\tau_B = 2.0$',\n",
    "    r'$\\tau_B = 5.0$',\n",
    "    r'$\\tau_B = 10.0$',\n",
    "    r'$\\tau_B = 50.0$',\n",
    "    r'$\\tau_B = 100.0$',\n",
    "    r'$T_d$'])"
   ]
  },
  {
   "cell_type": "markdown",
   "id": "incident-mixer",
   "metadata": {},
   "source": [
    "As you can see, the temperature increase for the first hundred time steps. The reason being that we selected the option `relaxation_timestep: 100`. We do this to allow the system to transform all of its initial potential energy into kinetic energy. "
   ]
  }
 ],
 "metadata": {
  "kernelspec": {
   "name": "pycharm-4afc989",
   "language": "python",
   "display_name": "PyCharm (sarkas)"
  },
  "language_info": {
   "codemirror_mode": {
    "name": "ipython",
    "version": 3
   },
   "file_extension": ".py",
   "mimetype": "text/x-python",
   "name": "python",
   "nbconvert_exporter": "python",
   "pygments_lexer": "ipython3",
   "version": "3.7.9"
  }
 },
 "nbformat": 4,
 "nbformat_minor": 5
}
